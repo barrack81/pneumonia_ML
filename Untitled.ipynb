{
 "cells": [
  {
   "cell_type": "code",
   "execution_count": null,
   "id": "bf08015e-7741-49f3-9a6f-7fbdba54abe4",
   "metadata": {},
   "outputs": [],
   "source": [
    "import tensorflow as tf\n"
   ]
  },
  {
   "cell_type": "code",
   "execution_count": null,
   "id": "58020e22-5f4e-453c-b8cd-a54dd2ad5ba0",
   "metadata": {},
   "outputs": [],
   "source": [
    "import os"
   ]
  },
  {
   "cell_type": "code",
   "execution_count": null,
   "id": "3a0f60e7-8afd-441d-93d2-b7ff260f37f5",
   "metadata": {},
   "outputs": [],
   "source": [
    "import matplotlib.pyplot as plt"
   ]
  },
  {
   "cell_type": "code",
   "execution_count": null,
   "id": "44a7ae85-094d-4ff5-b95f-8df3242c6406",
   "metadata": {},
   "outputs": [],
   "source": [
    "import seaborn as sns"
   ]
  },
  {
   "cell_type": "code",
   "execution_count": null,
   "id": "6c40e5a8-46eb-49d5-aa68-3f666a99966c",
   "metadata": {},
   "outputs": [],
   "source": [
    "from tensorflow.keras.preprocessing.image import ImageDataGenerator"
   ]
  },
  {
   "cell_type": "code",
   "execution_count": null,
   "id": "1eaa0fcb-a071-4335-bfc0-48d6bdc29e1e",
   "metadata": {},
   "outputs": [],
   "source": [
    "from tensorflow.keras.models import Sequential"
   ]
  },
  {
   "cell_type": "code",
   "execution_count": null,
   "id": "5ca63043-6428-4172-8345-93f0f77502cf",
   "metadata": {},
   "outputs": [],
   "source": [
    "from tensorflow.keras import Input"
   ]
  },
  {
   "cell_type": "code",
   "execution_count": null,
   "id": "853b253d-66f8-4ef8-87bf-a713f8f9f856",
   "metadata": {},
   "outputs": [],
   "source": [
    "from tensorflow.keras.layers import Conv2D, MaxPooling2D,Flatten, Dense, Dropout"
   ]
  },
  {
   "cell_type": "code",
   "execution_count": null,
   "id": "afaa6a11-4c08-4218-84fb-bf189a18dd8d",
   "metadata": {},
   "outputs": [],
   "source": [
    "from tensorflow.keras.optimizers import Adam"
   ]
  },
  {
   "cell_type": "code",
   "execution_count": null,
   "id": "2f03db3a-5ced-4cc1-aa1c-0e8db6ef75c7",
   "metadata": {},
   "outputs": [],
   "source": [
    "from sklearn.metrics import confusion_matrix"
   ]
  },
  {
   "cell_type": "code",
   "execution_count": null,
   "id": "948f9deb-128c-468e-a818-f4da247ee304",
   "metadata": {},
   "outputs": [],
   "source": [
    "import tensorflow as tf"
   ]
  },
  {
   "cell_type": "code",
   "execution_count": null,
   "id": "15c3f64a-cadf-4736-b96c-f4f907b55896",
   "metadata": {},
   "outputs": [],
   "source": [
    "from pathlib import Path"
   ]
  },
  {
   "cell_type": "markdown",
   "id": "04fb2a4f-3c80-400a-9c17-4d8c54ac6a49",
   "metadata": {},
   "source": [
    "paths to datasets"
   ]
  },
  {
   "cell_type": "code",
   "execution_count": null,
   "id": "423515c4-50ad-4e50-ad1c-631ab6179976",
   "metadata": {},
   "outputs": [],
   "source": [
    "base_dir = Path.cwd()"
   ]
  },
  {
   "cell_type": "code",
   "execution_count": null,
   "id": "cebbb343-af79-4859-bd85-667437f27cdd",
   "metadata": {},
   "outputs": [],
   "source": [
    "train_path = base_dir / 'train'\n",
    "val_path = base_dir / 'val'\n",
    "test_path = base_dir / 'test'"
   ]
  },
  {
   "cell_type": "markdown",
   "id": "4f0a7733-8c25-4e3a-ac99-30b9b3fad08a",
   "metadata": {},
   "source": [
    "data Argumentation and preprocessing"
   ]
  },
  {
   "cell_type": "code",
   "execution_count": null,
   "id": "8701c9f4-2fc8-4ad4-b408-4cce1685291c",
   "metadata": {},
   "outputs": [],
   "source": [
    "train_datagen = ImageDataGenerator(\n",
    "    rescale = 1.0/255, #normalize pixel values between 0 and 1\n",
    "    rotation_range= 20, #random rotation\n",
    "    width_shift_range=0.2, #horizontal shift\n",
    "    height_shift_range=0.2, #verticle shift\n",
    "    shear_range = 0.2, #shearing\n",
    "    zoom_range = 0.2, #zoom in\\out\n",
    "    horizontal_flip=True, #flip image horizontally\n",
    "    fill_mode='nearest' #fill in empty pixels after transformation\n",
    ")"
   ]
  },
  {
   "cell_type": "code",
   "execution_count": null,
   "id": "bd6c7152-994b-4561-a446-9f76ea0728bd",
   "metadata": {},
   "outputs": [],
   "source": [
    "val_datagen = ImageDataGenerator(rescale=1.0/255)\n",
    "test_datagen = ImageDataGenerator(rescale=1.0/255)"
   ]
  },
  {
   "cell_type": "markdown",
   "id": "9da7cc33-da08-4776-92d3-156bd22632ef",
   "metadata": {},
   "source": [
    "#load data from directories"
   ]
  },
  {
   "cell_type": "code",
   "execution_count": null,
   "id": "74cb5a5d-a290-4fc8-a6c0-dd1ff5b2bd7c",
   "metadata": {},
   "outputs": [],
   "source": [
    "train_generator = train_datagen.flow_from_directory(\n",
    "    train_path,\n",
    "    target_size=(150,150),\n",
    "    batch_size=32,\n",
    "    class_mode='binary'\n",
    ")"
   ]
  },
  {
   "cell_type": "code",
   "execution_count": null,
   "id": "2445ca04-97d2-4e70-a1d2-c30ed268d6bd",
   "metadata": {},
   "outputs": [],
   "source": [
    "val_generator = val_datagen.flow_from_directory(\n",
    "    val_path,\n",
    "    target_size=(150,150),\n",
    "    batch_size=32,\n",
    "class_mode='binary'\n",
    ")"
   ]
  },
  {
   "cell_type": "code",
   "execution_count": null,
   "id": "4d849396-55a7-4759-9465-1c24041a9dbf",
   "metadata": {},
   "outputs": [],
   "source": [
    "test_generator = test_datagen.flow_from_directory(\n",
    "    test_path,\n",
    "    target_size = (150,150),\n",
    "    batch_size=32,\n",
    "    class_mode='binary'\n",
    ")"
   ]
  },
  {
   "cell_type": "markdown",
   "id": "b7d591c2-cb3f-430a-bd29-cc182d87a45d",
   "metadata": {},
   "source": [
    "model architecture"
   ]
  },
  {
   "cell_type": "code",
   "execution_count": null,
   "id": "24428701-2f64-4e12-a16f-dc9b0b180ae9",
   "metadata": {},
   "outputs": [],
   "source": [
    "model = Sequential([\n",
    "    Input(shape=(150, 150, 3)),  # Define the input shape here\n",
    "    Conv2D(32, (3, 3), activation='relu'),\n",
    "    MaxPooling2D(pool_size=(2, 2)),\n",
    "    \n",
    "    Conv2D(64, (3, 3), activation='relu'),\n",
    "    MaxPooling2D(pool_size=(2, 2)),\n",
    "    \n",
    "    Conv2D(128, (3, 3), activation='relu'),\n",
    "    MaxPooling2D(pool_size=(2, 2)),\n",
    "    \n",
    "    Flatten(),\n",
    "    Dense(128, activation='relu'),\n",
    "    Dropout(0.5),\n",
    "    Dense(1, activation='sigmoid')  # Output layer for binary classification\n",
    "])"
   ]
  },
  {
   "cell_type": "markdown",
   "id": "56a02df7-9b5c-4357-af4a-a78ef6a2ac3e",
   "metadata": {},
   "source": [
    "compile the model"
   ]
  },
  {
   "cell_type": "code",
   "execution_count": null,
   "id": "48c43dbc-8ccd-4e2d-850d-0af23fbecfac",
   "metadata": {},
   "outputs": [],
   "source": [
    "model.compile(optimizer=Adam(learning_rate=0.0001), loss='binary_crossentropy', metrics=['accuracy'])"
   ]
  },
  {
   "cell_type": "markdown",
   "id": "fb4288f7-bf40-4c94-a13f-b16a5f759382",
   "metadata": {},
   "source": [
    "train the model"
   ]
  },
  {
   "cell_type": "code",
   "execution_count": null,
   "id": "29de5288-e751-409c-9fd6-63b5bcdb4dc1",
   "metadata": {},
   "outputs": [],
   "source": [
    "history = model.fit(\n",
    "    train_generator,\n",
    "    epochs=10,\n",
    "    validation_data=val_generator\n",
    ")"
   ]
  },
  {
   "cell_type": "markdown",
   "id": "7b384aa5-0515-493c-9f57-8657d37fd119",
   "metadata": {},
   "source": [
    "save the model"
   ]
  },
  {
   "cell_type": "code",
   "execution_count": null,
   "id": "d23ddf13-b30c-4f62-8a41-1c5f8ebdd51b",
   "metadata": {},
   "outputs": [],
   "source": [
    "model.save('pneumonia_model.h5')"
   ]
  },
  {
   "cell_type": "markdown",
   "id": "e0f8bb8a-1125-48cc-a73d-ed2ee04b2f21",
   "metadata": {},
   "source": [
    "visualizations"
   ]
  },
  {
   "cell_type": "code",
   "execution_count": null,
   "id": "df3d9003-404c-4421-afb4-66b622154c3d",
   "metadata": {},
   "outputs": [],
   "source": [
    "def plot_sample_images(generator):\n",
    "    x, y = next(generator)\n",
    "    plt.figure(figsize=(12, 8))\n",
    "    for i in range(9):\n",
    "        plt.subplot(3,3, i+1)\n",
    "        plt.imshow(x[i])\n",
    "        plt.title(f\"Label: {'Pneumonia' if y[i] == 1 else 'Normal'}\")\n",
    "        plt.axis('off')\n",
    "    plt.show()"
   ]
  },
  {
   "cell_type": "markdown",
   "id": "9189890e-25b8-4de4-a227-64b3040ce0db",
   "metadata": {},
   "source": [
    "the class distributions"
   ]
  },
  {
   "cell_type": "code",
   "execution_count": null,
   "id": "3c3c7ae9-f619-4e67-a241-5a8a89097bb2",
   "metadata": {},
   "outputs": [],
   "source": [
    "def plot_class_distribution():\n",
    "    normal_count = len(os.listdir(train_path / 'normal'))\n",
    "    pneumonia_count = len(os.listdir(train_path / 'pneumonia'))\n",
    "\n",
    "    sns.barplot(x=['Normal','Pneumonia'], y=[normal_count, pneumonia_count])\n",
    "    plt.title('Class Distribution In Trainig Data')\n",
    "    plt.ylabel('Number of Images')\n",
    "    plt.show()"
   ]
  },
  {
   "cell_type": "markdown",
   "id": "1c4a7df1-03e6-4c3f-ab89-628cec8ef1f9",
   "metadata": {},
   "source": [
    "plotting accuracy and loss curves"
   ]
  },
  {
   "cell_type": "code",
   "execution_count": null,
   "id": "de3ece7e-3f13-45ed-9736-d524bfc66bad",
   "metadata": {},
   "outputs": [],
   "source": [
    "def plot_training_history(history):\n",
    "    plt.plot(history.history['accuracy'], label='Training Accuracy')\n",
    "    plt.plot(history.history['val_accuracy'], label='validation Accuracy')\n",
    "    plt.title('Model Accuracy')\n",
    "    plt.ylabel('Accuracy')\n",
    "    plt.xlabel('Epoch')\n",
    "    plt.legend(loc='upper left')\n",
    "    plt.show()\n",
    "\n",
    "    plt.plot(history.history['loss'], label='Training Loss')\n",
    "    plt.plot(history.history['val_loss'],label='Validation Loss')\n",
    "    plt.title('Model Loss')\n",
    "    plt.ylabel('Loss')\n",
    "    plt.xlabel('Epoch')\n",
    "    plt.legend(loc='upper left')\n",
    "    plt.show"
   ]
  },
  {
   "cell_type": "markdown",
   "id": "53a45ff2-a05a-4c1d-9269-59428003f83b",
   "metadata": {},
   "source": [
    "confusion matrix"
   ]
  },
  {
   "cell_type": "code",
   "execution_count": null,
   "id": "52d8cbfe-fe66-4894-bdce-a539671984ea",
   "metadata": {},
   "outputs": [],
   "source": [
    "def plot_confusion_matrix(model, test_generator):\n",
    "    y_pred = model.predict(test_generator)\n",
    "    y_true = test_generator.classes\n",
    "    y_pred = (y_pred > 0.5).astype(int)\n",
    "\n",
    "    cm = confusion_matrix(y_true, y_pred)\n",
    "    sns.heatmap(cm, annot=True, fmt='d', cmap='Blues', xticklabels= ['Normal','Pneumonia'], yticklabels=['Normal','Pnuemonia'])\n",
    "    plt.title('Confusion Matrix')\n",
    "    plt.xlabel('Predicted Label')\n",
    "    plt.ylabel('True Label')\n",
    "    plt.show()"
   ]
  },
  {
   "cell_type": "markdown",
   "id": "0d87f4df-c92c-4314-a17f-24a84d195762",
   "metadata": {},
   "source": [
    "visualizations calls"
   ]
  },
  {
   "cell_type": "code",
   "execution_count": null,
   "id": "ef7f9a60-7b42-4836-a26e-820cee0de52f",
   "metadata": {},
   "outputs": [],
   "source": [
    "plot_sample_images(train_generator)\n",
    "plot_class_distribution()\n",
    "plot_training_history(history)"
   ]
  },
  {
   "cell_type": "code",
   "execution_count": null,
   "id": "13fc16aa-11db-432d-96dd-7db0cc30541f",
   "metadata": {},
   "outputs": [],
   "source": [
    "plot_confusion_matrix(model, test_generator)"
   ]
  },
  {
   "cell_type": "code",
   "execution_count": null,
   "id": "46926780-ca02-4110-871d-158a30a5802d",
   "metadata": {},
   "outputs": [],
   "source": []
  }
 ],
 "metadata": {
  "kernelspec": {
   "display_name": "Python (venv)",
   "language": "python",
   "name": "venv"
  },
  "language_info": {
   "codemirror_mode": {
    "name": "ipython",
    "version": 3
   },
   "file_extension": ".py",
   "mimetype": "text/x-python",
   "name": "python",
   "nbconvert_exporter": "python",
   "pygments_lexer": "ipython3",
   "version": "3.12.6"
  }
 },
 "nbformat": 4,
 "nbformat_minor": 5
}
